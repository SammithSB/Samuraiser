{
 "cells": [
  {
   "cell_type": "code",
   "execution_count": 12,
   "source": [
    "!pip install transformers"
   ],
   "outputs": [
    {
     "output_type": "stream",
     "name": "stdout",
     "text": [
      "Requirement already satisfied: transformers in c:\\users\\91910\\appdata\\local\\programs\\python\\python39\\lib\\site-packages (4.10.0)\n",
      "Requirement already satisfied: sacremoses in c:\\users\\91910\\appdata\\local\\programs\\python\\python39\\lib\\site-packages (from transformers) (0.0.45)\n",
      "Requirement already satisfied: filelock in c:\\users\\91910\\appdata\\local\\programs\\python\\python39\\lib\\site-packages (from transformers) (3.0.12)\n",
      "Requirement already satisfied: tokenizers<0.11,>=0.10.1 in c:\\users\\91910\\appdata\\local\\programs\\python\\python39\\lib\\site-packages (from transformers) (0.10.3)\n",
      "Requirement already satisfied: numpy>=1.17 in c:\\users\\91910\\appdata\\local\\programs\\python\\python39\\lib\\site-packages (from transformers) (1.21.2)\n",
      "Requirement already satisfied: regex!=2019.12.17 in c:\\users\\91910\\appdata\\local\\programs\\python\\python39\\lib\\site-packages (from transformers) (2021.8.28)\n",
      "Requirement already satisfied: tqdm>=4.27 in c:\\users\\91910\\appdata\\local\\programs\\python\\python39\\lib\\site-packages (from transformers) (4.62.2)\n",
      "Requirement already satisfied: pyyaml>=5.1 in c:\\users\\91910\\appdata\\local\\programs\\python\\python39\\lib\\site-packages (from transformers) (5.4.1)\n",
      "Requirement already satisfied: packaging in c:\\users\\91910\\appdata\\local\\programs\\python\\python39\\lib\\site-packages (from transformers) (21.0)\n",
      "Requirement already satisfied: requests in c:\\users\\91910\\appdata\\local\\programs\\python\\python39\\lib\\site-packages (from transformers) (2.26.0)\n",
      "Requirement already satisfied: huggingface-hub>=0.0.12 in c:\\users\\91910\\appdata\\local\\programs\\python\\python39\\lib\\site-packages (from transformers) (0.0.16)\n",
      "Requirement already satisfied: typing-extensions in c:\\users\\91910\\appdata\\local\\programs\\python\\python39\\lib\\site-packages (from huggingface-hub>=0.0.12->transformers) (3.10.0.2)\n",
      "Requirement already satisfied: pyparsing>=2.0.2 in c:\\users\\91910\\appdata\\local\\programs\\python\\python39\\lib\\site-packages (from packaging->transformers) (2.4.7)\n",
      "Requirement already satisfied: colorama in c:\\users\\91910\\appdata\\local\\programs\\python\\python39\\lib\\site-packages (from tqdm>=4.27->transformers) (0.4.4)\n",
      "Requirement already satisfied: idna<4,>=2.5 in c:\\users\\91910\\appdata\\local\\programs\\python\\python39\\lib\\site-packages (from requests->transformers) (3.2)\n",
      "Requirement already satisfied: certifi>=2017.4.17 in c:\\users\\91910\\appdata\\local\\programs\\python\\python39\\lib\\site-packages (from requests->transformers) (2021.5.30)\n",
      "Requirement already satisfied: urllib3<1.27,>=1.21.1 in c:\\users\\91910\\appdata\\local\\programs\\python\\python39\\lib\\site-packages (from requests->transformers) (1.26.6)\n",
      "Requirement already satisfied: charset-normalizer~=2.0.0 in c:\\users\\91910\\appdata\\local\\programs\\python\\python39\\lib\\site-packages (from requests->transformers) (2.0.4)\n",
      "Requirement already satisfied: six in c:\\users\\91910\\appdata\\local\\programs\\python\\python39\\lib\\site-packages (from sacremoses->transformers) (1.16.0)\n",
      "Requirement already satisfied: joblib in c:\\users\\91910\\appdata\\local\\programs\\python\\python39\\lib\\site-packages (from sacremoses->transformers) (1.0.1)\n",
      "Requirement already satisfied: click in c:\\users\\91910\\appdata\\local\\programs\\python\\python39\\lib\\site-packages (from sacremoses->transformers) (8.0.1)\n"
     ]
    }
   ],
   "metadata": {}
  },
  {
   "cell_type": "code",
   "execution_count": null,
   "source": [
    "#reference https://www.youtube.com/watch?v=TsfLm5iiYb4"
   ],
   "outputs": [],
   "metadata": {}
  },
  {
   "cell_type": "code",
   "execution_count": 3,
   "source": [
    "from transformers import pipeline"
   ],
   "outputs": [],
   "metadata": {}
  },
  {
   "cell_type": "code",
   "execution_count": 4,
   "source": [
    "#should have pytorch installed can install from here https://pytorch.org/\r\n",
    "summarizer = pipeline('summarization')"
   ],
   "outputs": [
    {
     "output_type": "stream",
     "name": "stderr",
     "text": [
      "No model was supplied, defaulted to sshleifer/distilbart-cnn-12-6 (https://huggingface.co/sshleifer/distilbart-cnn-12-6)\n",
      "Downloading: 100%|██████████| 1.22G/1.22G [05:10<00:00, 3.94MB/s]\n",
      "Downloading: 100%|██████████| 26.0/26.0 [00:00<00:00, 12.9kB/s]\n",
      "Downloading: 100%|██████████| 899k/899k [00:11<00:00, 76.1kB/s]\n",
      "Downloading: 100%|██████████| 456k/456k [00:08<00:00, 50.9kB/s]\n"
     ]
    }
   ],
   "metadata": {}
  },
  {
   "cell_type": "code",
   "execution_count": 9,
   "source": [
    "article =\" hello friends so in this video we are going to install matplotlib because on in further videos uh we have to utilize that library in our program so in order to use the matplotlib you have to install that library inside your pc so for that purpose you have to search idle first just click over that just right click over that and click the open file location and this is the path on the top that is local c and user dell and all these stuff just click app data now you have to go into the local folder and inside that local folder you have to find the programs here it is now you have to go by in python python39 and whatever the folder you have with the name of python then just click scripts yes just copy this whole location directory from here control c go on to your search and write cmd it will open this command line and you have to write cd and just paste that location over here click enter and it we are now standing at that location we that we have pasted over there now you have to just write the command that is actually pip3 install math click enter so the process has been started and it is installing the matplotlib it will just take a little time to install as per your configuration of your pc so it will just install in your pc and we will be ready to move okay so let me just pause the video right here all right so the matplotlib library has been installed successfully inside our pc so let's check out that it has been installed or not just click on your search and write idle and here you have to write import mat plot lib enter okay so this is how easily you can install the metallot live and the library has been installed in your pc successfully just follow this video and let's meet you in a next lecture with the cool opencv kind of stuff thank you\""
   ],
   "outputs": [],
   "metadata": {}
  },
  {
   "cell_type": "code",
   "execution_count": 10,
   "source": [
    "summary=summarizer(article,max_length=140,min_length=40,do_sample=False)\r\n",
    "#it works for shorter videos"
   ],
   "outputs": [],
   "metadata": {}
  },
  {
   "cell_type": "code",
   "execution_count": 11,
   "source": [
    "summary[0]['summary_text']"
   ],
   "outputs": [
    {
     "output_type": "execute_result",
     "data": {
      "text/plain": [
       "' In order to use the matplotlib you have to install that library inside your pc . You have to search idle first just click over that and click the open file location . Click in python python python39 and click scripts yes just click scripts to copy this whole location directory from here control c .'"
      ]
     },
     "metadata": {},
     "execution_count": 11
    }
   ],
   "metadata": {}
  },
  {
   "cell_type": "code",
   "execution_count": null,
   "source": [],
   "outputs": [],
   "metadata": {}
  }
 ],
 "metadata": {
  "orig_nbformat": 4,
  "language_info": {
   "name": "python",
   "version": "3.9.7",
   "mimetype": "text/x-python",
   "codemirror_mode": {
    "name": "ipython",
    "version": 3
   },
   "pygments_lexer": "ipython3",
   "nbconvert_exporter": "python",
   "file_extension": ".py"
  },
  "kernelspec": {
   "name": "python3",
   "display_name": "Python 3.9.7 64-bit"
  },
  "interpreter": {
   "hash": "958aff632ded799c11fb280ec5103730f4b6b3afd9e83aba7c6098a289ee377e"
  }
 },
 "nbformat": 4,
 "nbformat_minor": 2
}