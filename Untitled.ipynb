{
 "cells": [
  {
   "cell_type": "code",
   "execution_count": 2,
   "source": [
    "from transformers import pipeline\n",
    "from youtube_transcript_api import YouTubeTranscriptApi"
   ],
   "outputs": [],
   "metadata": {}
  },
  {
   "cell_type": "code",
   "execution_count": 3,
   "source": [
    "transcript = YouTubeTranscriptApi.get_transcript('pZVpggzQwQ0')"
   ],
   "outputs": [],
   "metadata": {}
  },
  {
   "cell_type": "code",
   "execution_count": 4,
   "source": [
    "result = \"\"\n",
    "for i in transcript:\n",
    "    result += ' ' + i['text']\n",
    "#print(result)\n",
    "print(len(result))"
   ],
   "outputs": [
    {
     "output_type": "stream",
     "name": "stdout",
     "text": [
      "17061\n"
     ]
    }
   ],
   "metadata": {}
  },
  {
   "cell_type": "code",
   "execution_count": 5,
   "source": [
    "summarizer = pipeline('summarization')"
   ],
   "outputs": [
    {
     "output_type": "stream",
     "name": "stderr",
     "text": [
      "No model was supplied, defaulted to t5-small (https://huggingface.co/t5-small)\n",
      "All model checkpoint layers were used when initializing TFT5ForConditionalGeneration.\n",
      "\n",
      "All the layers of TFT5ForConditionalGeneration were initialized from the model checkpoint at t5-small.\n",
      "If your task is similar to the task the model of the checkpoint was trained on, you can already use TFT5ForConditionalGeneration for predictions without further training.\n"
     ]
    }
   ],
   "metadata": {}
  },
  {
   "cell_type": "code",
   "execution_count": 6,
   "source": [
    "num_iters = int(len(result)/1000)\n",
    "summarized_text = []\n",
    "for i in range(0, num_iters + 1):\n",
    "  start = 0\n",
    "  start = i * 1000\n",
    "  end = (i + 1) * 1000\n",
    "  out = summarizer(result[start:end])\n",
    "  out = out[0]\n",
    "  out = out['summary_text']\n",
    "  summarized_text.append(out)\n",
    "\n",
    "print(summarized_text)"
   ],
   "outputs": [
    {
     "output_type": "stream",
     "name": "stderr",
     "text": [
      "Your max_length is set to 200, but you input_length is only 20. You might consider decreasing max_length manually, e.g. summarizer('...', max_length=50)\n"
     ]
    },
    {
     "output_type": "stream",
     "name": "stdout",
     "text": [
      "[\"today, we're going to show you our own personal rigs . tell you the real story of how they were built and bought . - just like how we'll show off our sponsor, Ridge Wallet .\", \"it's a 5900X cooled by an NH-D15S, a RTX 3080 . this is the Corsair 5000X, this is like as big as they get without going to the 1000D . now I can fit so much hardware, if I want, .\", 'the X570-I Strix from Asus has 16 gigs of RAM, 970M, and a 650H . this is my bread and butter for 3D modeling . the more cores you have, the more efficient workflows .', \"the Dell XPS was doing a refresh in 2020, and on may 13th, 2020, I ordered it immediately as soon as they launched the pre-orders . I upgraded the RAM from 16 gigs to 32 gigs, because that was a fairly inexpensive upgrade, and one that I didn't need immediately, so I just waited a little longer, waited for RAM to go on sale .\", 'tually use this for is photo editing, and general purpose PC usage like internet browsing, Netflix once in a while . it gives me that kind of immediate satisfaction like \"okay, well this went well,\" or \"This didn\\'t go well\" and that workflow for me is so much more conducive to creativity, and I can do it immediately .', \"it comes with its own input device . it started off in 2002, when I got the first version of my PC . every 10 years, I've been buying the next version .\", 'it\\'s an Intel Core i7 4790K, and there\\'s a GTX 980 Ti . it was painted in a LTT video, and it happened, look... you might have noticed from the photos that the computer seems to be very awkwardly positioned in another room . the computer was getting too hot in that room, because you know, computers put out heat, so I thought \"Oh, I\\'ll shove it into the next room and close the door\"', \"thomas mcdonald's is a new motherboard . the motherboard was screwed, and the power supply was shutting off or restarting . at the tail end of 2019, I decided to move down to Vancouver, in the hopes of finding a job at an animation studio.\", \"jessie you have probably the cleanest cable management that anyone's shown yet . the power supply isn't modular at all, so I found as many twisty ties as I could, and I popped it in there . for me, it'll play all the newer games that come, at medium settings, at 1080p .\", 'the earliest iteration of this was a 4770K, with a crappy I think gigabyte motherboard that ended up dying, and a Node 304 . the problem with it is, the power supply is in the front, like here, and then the fan is up here, so the airflow just completely misses the motherboard .', \"you guys just got scammed. took the side panel off, can't even see . - [Jessie] Remove the other side panel . you can see this whole portion is pretty nicely managed .\", \"I bought these blue extensions from CableMod . this orange extension is just for SATA, 'cause I've actually got it'\", \"the XPS has a touchpad issue that's going on in the first early units . it's a pretty good experience overall, and they were very quick and responsive . the touch display has been very responsive, and I used to make fun of Linus while we were shooting .\", \"the one X was the most powerful at its time, up until about nine months ago . it was a very easy buy, you just throw down the money and then, you know, it was on sale . if you're looking at a photo and you really wanna move around to edit a different part, it's pretty handy .\", \"you can easily make it your own by getting different accessories if you wanted to . it's called Samsung DeX . everything PC-based was either done on my 2012 HP ENVY, which is back in Winnipeg .\", \"Pulseway lets you centrally manage all your desktop servers, network devices and cloud infrastructure from one place . you'll be the first person to know when a user has an issue, or when there's a problem with your IT environment .\", 'the patching engine will prevent vulnerabilities by checking for updates for both your operating system and third party applications . you can do all of that from a mobile app, or from the desktop .', \"people do, but mostly the stuff that I do, because I'm great . if you're a great person, you'll get to know me .\"]\n"
     ]
    }
   ],
   "metadata": {}
  },
  {
   "cell_type": "code",
   "execution_count": 7,
   "source": [
    "len(str(summarized_text))"
   ],
   "outputs": [
    {
     "output_type": "execute_result",
     "data": {
      "text/plain": [
       "4111"
      ]
     },
     "metadata": {},
     "execution_count": 7
    }
   ],
   "metadata": {}
  },
  {
   "cell_type": "code",
   "execution_count": null,
   "source": [],
   "outputs": [],
   "metadata": {}
  }
 ],
 "metadata": {
  "kernelspec": {
   "name": "python3",
   "display_name": "Python 3.9.0 64-bit"
  },
  "language_info": {
   "codemirror_mode": {
    "name": "ipython",
    "version": 3
   },
   "file_extension": ".py",
   "mimetype": "text/x-python",
   "name": "python",
   "nbconvert_exporter": "python",
   "pygments_lexer": "ipython3",
   "version": "3.9.0"
  },
  "interpreter": {
   "hash": "aee8b7b246df8f9039afb4144a1f6fd8d2ca17a180786b69acc140d282b71a49"
  }
 },
 "nbformat": 4,
 "nbformat_minor": 5
}