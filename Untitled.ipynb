{
 "cells": [
  {
   "cell_type": "code",
   "execution_count": 1,
   "source": [
    "from transformers import pipeline\n",
    "from youtube_transcript_api import YouTubeTranscriptApi"
   ],
   "outputs": [],
   "metadata": {}
  },
  {
   "cell_type": "code",
   "execution_count": 2,
   "source": [
    "transcript = YouTubeTranscriptApi.get_transcript('pZVpggzQwQ0')"
   ],
   "outputs": [],
   "metadata": {}
  },
  {
   "cell_type": "code",
   "execution_count": 3,
   "source": [
    "result = \"\"\n",
    "for i in transcript:\n",
    "    result += ' ' + i['text']\n",
    "#print(result)\n",
    "print(len(result))"
   ],
   "outputs": [
    {
     "output_type": "stream",
     "name": "stdout",
     "text": [
      "16700\n"
     ]
    }
   ],
   "metadata": {}
  },
  {
   "cell_type": "code",
   "execution_count": 4,
   "source": [
    "summarizer = pipeline('summarization')"
   ],
   "outputs": [
    {
     "output_type": "stream",
     "name": "stderr",
     "text": [
      "No model was supplied, defaulted to t5-small (https://huggingface.co/t5-small)\n",
      "All model checkpoint layers were used when initializing TFT5ForConditionalGeneration.\n",
      "\n",
      "All the layers of TFT5ForConditionalGeneration were initialized from the model checkpoint at t5-small.\n",
      "If your task is similar to the task the model of the checkpoint was trained on, you can already use TFT5ForConditionalGeneration for predictions without further training.\n"
     ]
    }
   ],
   "metadata": {}
  },
  {
   "cell_type": "code",
   "execution_count": 5,
   "source": [
    "num_iters = int(len(result)/1000)\n",
    "summarized_text = []\n",
    "for i in range(0, num_iters + 1):\n",
    "  start = 0\n",
    "  start = i * 1000\n",
    "  end = (i + 1) * 1000\n",
    "  out = summarizer(result[start:end])\n",
    "  out = out[0]\n",
    "  out = out['summary_text']\n",
    "  summarized_text.append(out)\n",
    "\n",
    "print(summarized_text)"
   ],
   "outputs": [
    {
     "output_type": "stream",
     "name": "stderr",
     "text": [
      "Your max_length is set to 200, but you input_length is only 166. You might consider decreasing max_length manually, e.g. summarizer('...', max_length=50)\n"
     ]
    },
    {
     "output_type": "stream",
     "name": "stdout",
     "text": [
      "[\"ridge wallet has redefined the traditional wallet with his compact frame and rfid blocking plates keep your bulge down and use our offer code linus to save 10 and get free worldwide shipping [Music] i actually started this originally on a free 8100 from my friend like an i380 100 and that got me on the coffee lake nowadays i've got a 30 70 .\", \"i think this is the for the win three one one terabyte gen four corsair ssd two four terbyte hard drives that i have in raid zero for games and uh that's pretty much it this is a really weird configuration because as you can probably tell it's like as big as they get without going to the 1000d previously i had an itx rig and i finally you know got my own place over the last couple years .\", \"he x570i strix from asus it's a little itx little nugget in there it takes up like not even a quarter of the case . i went to school for 3d animation and 3d modeling and they gave me this laptop to work with this is a alienware r317 it has 16 gigs of ram 970m and a 650h this was okay but when i came home from england three years later i needed something that actually could do\", \"dell xps has the intel i7 10 875 comet lake and it's got a 1650 ti gpu and i've upgraded the ram from 16 gigs to 32 gigs . the main thing i actually use this for is photo editing and general purpose pc usage like internet browsing .\", \"netflix has a lot of light video editing but lately not so much and i find that whenever i do a photo shoot i usually just have my laptop with me so i'll go to a coffee shop or somewhere chill and photo at it for like maybe an hour after a shoot . i built my pc in like the pica covid in like 2020 around like february or march just when that stimulus check hits ooh delicious .\", \"i bought this thing from facebook marketplace for like a hot three hundred dollars you demand like look at this it comes with its own input device it started off in 2002 when i got the first version of my pc . every 10 years i've been walking into best buy and buying the next version it's been great it has been a great performer it has expanded storage using one of these usb ports . the performance of it is fantastic you know i can go home .\", \"ltt video shows how the computer seems to be awkwardly positioned in another room . linus didn't even know what the problem was but i needed a new motherboard so i get that all working and then there's a power outage . when the power came back, i'll just shove it into the next room and close the door and then all the heat will be in a room uh but then of course you need to you know have longer cables .\", \"i decided to move down to vancouver in the hopes of finding a job at animation studio unfortunately unfortunately i found a nice place here so i don't actually do much 3d work anymore except here like i designed the build corner set the podcast set short circuit set . i'm probably going to lean more towards a gaming type rig even though now that i have a sun that's not going to happe .\", \"the power supply isn't modular at all so i found as many twisty ties as i could and popped it in there for me the most important thing is that it'll play all the newer games to come at like medium settings at 1080p like i don't know it's nothing special but uh it does the job for me and i'm more than happy with her .\", \"ink gigabyte motherboard that ended up dying and a node 304 it's a cute little case kind of looks like a mini fridge but the problem with it is the power supply is in the front like here your motherboard is back here and then the fan is up here so the airflow just completely misses the motherboard so i would look at temps and the vrms would be at like 95 degrees like all the time and you know of course one day i come home go to turn my computer on nothing\", \"i built a system for ltt in this case and i realized like it looks really nice and it comes with the rgb pre-wired and it has really nice like cable tie down spots so you can see this whole portion is pretty nicely managed . the only one i really added was here but i think i could do a little better with the cable ties maybe from uh here we go look that's even better .\", \"i bought it because my drivers broke i could not for the life of me figure it out i reinstalled windows i formatted everything and rebooted it my drivers were still broken i honestly don't they're fine now . to its credit this sound card does have a little better than the odd more than the onboard audio so i'm overall like not unhappy with my purchase plus it has rgb when that's going .\", \"alex walked out to me to try out my touchpad and informed me that i actually had the touchpad issue that was going on in the first early units of this version of the xps where there's i think a weird dead zone on the left . i then proceeded to have to send it back to dell and get a replacement which was actually a pretty good experience overall they were very quick and responsive and they had me a new unit in less than two weeks .\", \"the best bang for the budget to get into playing games for me was to just buy an xbox and especially this you know it's the one x it was the most powerful at its time up until about nine months ago . when it was on sale it was a very easy buy you just throw down the money and then you know you can easily make it your own .\", \"i'll show you quick fast here it's called samsung dex but everything that i do is always done off of my phone so i would make music videos for my band back in the day . everything pc based was either done on my 2012 hp envy which is way back in winnipeg .\", \"pulseway sponsoring today's video pulseway lets you centrally manage all your desktops servers network devices and cloud infrastructure from one place you'll be the first person to know when a user has an issue or when there's a problem with your it environment . the patching engine will prevent vulnerabilities by checking for updates for both your operating system and third party .\", '-party applications and run those updates for you on a schedule you can define and the best part is you can do all of that from a mobile app or from the desktop so try it for free today at pulseway.com or through the link in the description down below .']\n"
     ]
    }
   ],
   "metadata": {}
  },
  {
   "cell_type": "code",
   "execution_count": null,
   "source": [
    "len(str(summarized_text))"
   ],
   "outputs": [],
   "metadata": {}
  },
  {
   "cell_type": "code",
   "execution_count": null,
   "source": [],
   "outputs": [],
   "metadata": {}
  }
 ],
 "metadata": {
  "kernelspec": {
   "display_name": "Python 3",
   "language": "python",
   "name": "python3"
  },
  "language_info": {
   "codemirror_mode": {
    "name": "ipython",
    "version": 3
   },
   "file_extension": ".py",
   "mimetype": "text/x-python",
   "name": "python",
   "nbconvert_exporter": "python",
   "pygments_lexer": "ipython3",
   "version": "3.9.0"
  }
 },
 "nbformat": 4,
 "nbformat_minor": 5
}